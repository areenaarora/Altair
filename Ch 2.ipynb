{
 "cells": [
  {
   "cell_type": "markdown",
   "id": "f0762341",
   "metadata": {},
   "source": [
    "### Importing data for Altair"
   ]
  },
  {
   "cell_type": "markdown",
   "id": "3ba5569a",
   "metadata": {},
   "source": [
    "You can use data in one of the following formats:\n",
    "1. Pandas DataFrame\n",
    "2. Data or related object (i.e. UrlData, InlineData, NamedData)\n",
    "3. A url string pointing to a json or csv formatted text file\n",
    "4. An object that supports the __geo_interface__ (eg. Geopandas GeoDataFrame, Shapely Geometries, GeoJSON Objects)"
   ]
  },
  {
   "cell_type": "markdown",
   "id": "8ec50088",
   "metadata": {},
   "source": [
    "When the data type is a Pandas dataframe, Altair automatically decodes datatypes,"
   ]
  },
  {
   "cell_type": "markdown",
   "id": "d031b629",
   "metadata": {},
   "source": [
    "### Long vs wide data"
   ]
  },
  {
   "cell_type": "markdown",
   "id": "a297b98f",
   "metadata": {},
   "source": [
    "Altair works best with long-form data. If you have wide data, here's how you can convert it to long-form within Altair itself. The function to be used is called [Fold Transform](https://altair-viz.github.io/user_guide/transform/fold.html#user-guide-fold-transform)"
   ]
  },
  {
   "cell_type": "markdown",
   "id": "c42936cb",
   "metadata": {},
   "source": [
    "### Encodings"
   ]
  },
  {
   "cell_type": "markdown",
   "id": "47203767",
   "metadata": {},
   "source": [
    ".encode in Altair is like the aesthetics feature in plotnine. You define the x and y axis, color and shape of points in the chart.\n",
    "\n",
    "Since Altair automatically detects datatypes for Pandas' dataframes, it also creates approproate scales and legends for the data!"
   ]
  },
  {
   "cell_type": "code",
   "execution_count": null,
   "id": "8524d716",
   "metadata": {},
   "outputs": [],
   "source": []
  }
 ],
 "metadata": {
  "kernelspec": {
   "display_name": "Python 3 (ipykernel)",
   "language": "python",
   "name": "python3"
  },
  "language_info": {
   "codemirror_mode": {
    "name": "ipython",
    "version": 3
   },
   "file_extension": ".py",
   "mimetype": "text/x-python",
   "name": "python",
   "nbconvert_exporter": "python",
   "pygments_lexer": "ipython3",
   "version": "3.10.0"
  }
 },
 "nbformat": 4,
 "nbformat_minor": 5
}
